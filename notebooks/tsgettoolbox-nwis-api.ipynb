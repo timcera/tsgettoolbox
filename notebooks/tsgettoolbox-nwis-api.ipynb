{
 "cells": [
  {
   "cell_type": "markdown",
   "metadata": {},
   "source": [
    "# tsgettoolbox and tstoolbox - Python Programming Interface\n",
    "## 'tsgettoolbox nwis ...': Download data from the National Water Information System (NWIS)\n",
    "This notebook is to illustrate the Python API usage for 'tsgettoolbox' to download and work with data from the National Water Information System (NWIS).  There is a different notebook to do the same things from the command line called tsgettoolbox-nwis-cli.  The CLI version of tsgettoolbox can be used from other languages that have the ability to make a system call."
   ]
  },
  {
   "cell_type": "code",
   "execution_count": 1,
   "metadata": {
    "execution": {
     "iopub.execute_input": "2024-06-20T04:39:08.391192Z",
     "iopub.status.busy": "2024-06-20T04:39:08.391063Z",
     "iopub.status.idle": "2024-06-20T04:39:08.752675Z",
     "shell.execute_reply": "2024-06-20T04:39:08.752277Z",
     "shell.execute_reply.started": "2024-06-20T04:39:08.391180Z"
    }
   },
   "outputs": [],
   "source": [
    "%matplotlib inline"
   ]
  },
  {
   "cell_type": "code",
   "execution_count": 2,
   "metadata": {
    "execution": {
     "iopub.execute_input": "2024-06-20T04:39:08.753478Z",
     "iopub.status.busy": "2024-06-20T04:39:08.753279Z",
     "iopub.status.idle": "2024-06-20T04:39:15.781678Z",
     "shell.execute_reply": "2024-06-20T04:39:15.781172Z",
     "shell.execute_reply.started": "2024-06-20T04:39:08.753465Z"
    }
   },
   "outputs": [],
   "source": [
    "from tsgettoolbox import tsgettoolbox\n",
    "from tstoolbox import tstoolbox"
   ]
  },
  {
   "cell_type": "markdown",
   "metadata": {},
   "source": [
    "Let's say that I want flow (parameterCd=00060) for site '02325000'.  All of the tsgettoolbox functions create a _pandas_ DataFrame."
   ]
  },
  {
   "cell_type": "code",
   "execution_count": 3,
   "metadata": {
    "execution": {
     "iopub.execute_input": "2024-06-20T04:39:15.783173Z",
     "iopub.status.busy": "2024-06-20T04:39:15.782755Z",
     "iopub.status.idle": "2024-06-20T04:39:15.811284Z",
     "shell.execute_reply": "2024-06-20T04:39:15.810813Z",
     "shell.execute_reply.started": "2024-06-20T04:39:15.783159Z"
    }
   },
   "outputs": [],
   "source": [
    "df = tsgettoolbox.nwis_dv(\n",
    "    sites=\"02325000\", startDT=\"2000-01-01\", endDT=\"2010-01-01\", parameterCd=\"00060\"\n",
    ").convert_dtypes()"
   ]
  },
  {
   "cell_type": "code",
   "execution_count": 4,
   "metadata": {
    "execution": {
     "iopub.execute_input": "2024-06-20T04:39:15.812315Z",
     "iopub.status.busy": "2024-06-20T04:39:15.811983Z",
     "iopub.status.idle": "2024-06-20T04:39:15.820832Z",
     "shell.execute_reply": "2024-06-20T04:39:15.820432Z",
     "shell.execute_reply.started": "2024-06-20T04:39:15.812297Z"
    }
   },
   "outputs": [
    {
     "data": {
      "text/html": [
       "<div>\n",
       "<style scoped>\n",
       "    .dataframe tbody tr th:only-of-type {\n",
       "        vertical-align: middle;\n",
       "    }\n",
       "\n",
       "    .dataframe tbody tr th {\n",
       "        vertical-align: top;\n",
       "    }\n",
       "\n",
       "    .dataframe thead th {\n",
       "        text-align: right;\n",
       "    }\n",
       "</style>\n",
       "<table border=\"1\" class=\"dataframe\">\n",
       "  <thead>\n",
       "    <tr style=\"text-align: right;\">\n",
       "      <th></th>\n",
       "      <th>USGS_02325000_26719_00060_00003</th>\n",
       "    </tr>\n",
       "    <tr>\n",
       "      <th>Datetime</th>\n",
       "      <th></th>\n",
       "    </tr>\n",
       "  </thead>\n",
       "  <tbody>\n",
       "    <tr>\n",
       "      <th>2000-01-01</th>\n",
       "      <td>82.0</td>\n",
       "    </tr>\n",
       "    <tr>\n",
       "      <th>2000-01-02</th>\n",
       "      <td>81.0</td>\n",
       "    </tr>\n",
       "    <tr>\n",
       "      <th>2000-01-03</th>\n",
       "      <td>80.0</td>\n",
       "    </tr>\n",
       "    <tr>\n",
       "      <th>2000-01-04</th>\n",
       "      <td>79.0</td>\n",
       "    </tr>\n",
       "    <tr>\n",
       "      <th>2000-01-05</th>\n",
       "      <td>75.0</td>\n",
       "    </tr>\n",
       "  </tbody>\n",
       "</table>\n",
       "</div>"
      ],
      "text/plain": [
       "           USGS_02325000_26719_00060_00003\n",
       "Datetime                                  \n",
       "2000-01-01                            82.0\n",
       "2000-01-02                            81.0\n",
       "2000-01-03                            80.0\n",
       "2000-01-04                            79.0\n",
       "2000-01-05                            75.0"
      ]
     },
     "execution_count": 4,
     "metadata": {},
     "output_type": "execute_result"
    }
   ],
   "source": [
    "df.head()  # The .head() function gives the first 5 values of the time-series"
   ]
  },
  {
   "cell_type": "markdown",
   "metadata": {},
   "source": [
    "## 'tstoolbox ...': Process data using 'tstoolbox'\n",
    "Now lets use \"tstoolbox\" to plot the time-series.  The 'input_ts' option is used to read in the time-series from the DataFrame."
   ]
  },
  {
   "cell_type": "code",
   "execution_count": 5,
   "metadata": {
    "execution": {
     "iopub.execute_input": "2024-06-20T04:39:15.821353Z",
     "iopub.status.busy": "2024-06-20T04:39:15.821251Z",
     "iopub.status.idle": "2024-06-20T04:39:15.828456Z",
     "shell.execute_reply": "2024-06-20T04:39:15.827844Z",
     "shell.execute_reply.started": "2024-06-20T04:39:15.821343Z"
    }
   },
   "outputs": [
    {
     "data": {
      "text/html": [
       "<div>\n",
       "<style scoped>\n",
       "    .dataframe tbody tr th:only-of-type {\n",
       "        vertical-align: middle;\n",
       "    }\n",
       "\n",
       "    .dataframe tbody tr th {\n",
       "        vertical-align: top;\n",
       "    }\n",
       "\n",
       "    .dataframe thead th {\n",
       "        text-align: right;\n",
       "    }\n",
       "</style>\n",
       "<table border=\"1\" class=\"dataframe\">\n",
       "  <thead>\n",
       "    <tr style=\"text-align: right;\">\n",
       "      <th></th>\n",
       "      <th>USGS_02325000_26719_00060_00003</th>\n",
       "    </tr>\n",
       "    <tr>\n",
       "      <th>Datetime</th>\n",
       "      <th></th>\n",
       "    </tr>\n",
       "  </thead>\n",
       "  <tbody>\n",
       "    <tr>\n",
       "      <th>2000-01-01</th>\n",
       "      <td>82.0</td>\n",
       "    </tr>\n",
       "    <tr>\n",
       "      <th>2000-01-02</th>\n",
       "      <td>81.0</td>\n",
       "    </tr>\n",
       "    <tr>\n",
       "      <th>2000-01-03</th>\n",
       "      <td>80.0</td>\n",
       "    </tr>\n",
       "    <tr>\n",
       "      <th>2000-01-04</th>\n",
       "      <td>79.0</td>\n",
       "    </tr>\n",
       "    <tr>\n",
       "      <th>2000-01-05</th>\n",
       "      <td>75.0</td>\n",
       "    </tr>\n",
       "    <tr>\n",
       "      <th>...</th>\n",
       "      <td>...</td>\n",
       "    </tr>\n",
       "    <tr>\n",
       "      <th>2009-12-28</th>\n",
       "      <td>153.0</td>\n",
       "    </tr>\n",
       "    <tr>\n",
       "      <th>2009-12-29</th>\n",
       "      <td>153.0</td>\n",
       "    </tr>\n",
       "    <tr>\n",
       "      <th>2009-12-30</th>\n",
       "      <td>151.0</td>\n",
       "    </tr>\n",
       "    <tr>\n",
       "      <th>2009-12-31</th>\n",
       "      <td>150.0</td>\n",
       "    </tr>\n",
       "    <tr>\n",
       "      <th>2010-01-01</th>\n",
       "      <td>148.0</td>\n",
       "    </tr>\n",
       "  </tbody>\n",
       "</table>\n",
       "<p>3654 rows × 1 columns</p>\n",
       "</div>"
      ],
      "text/plain": [
       "            USGS_02325000_26719_00060_00003\n",
       "Datetime                                   \n",
       "2000-01-01                             82.0\n",
       "2000-01-02                             81.0\n",
       "2000-01-03                             80.0\n",
       "2000-01-04                             79.0\n",
       "2000-01-05                             75.0\n",
       "...                                     ...\n",
       "2009-12-28                            153.0\n",
       "2009-12-29                            153.0\n",
       "2009-12-30                            151.0\n",
       "2009-12-31                            150.0\n",
       "2010-01-01                            148.0\n",
       "\n",
       "[3654 rows x 1 columns]"
      ]
     },
     "execution_count": 5,
     "metadata": {},
     "output_type": "execute_result"
    }
   ],
   "source": [
    "df = df.astype(\"float64\")\n",
    "df"
   ]
  },
  {
   "cell_type": "code",
   "execution_count": 13,
   "metadata": {
    "execution": {
     "iopub.execute_input": "2024-06-20T04:59:02.354400Z",
     "iopub.status.busy": "2024-06-20T04:59:02.354151Z",
     "iopub.status.idle": "2024-06-20T04:59:02.887756Z",
     "shell.execute_reply": "2024-06-20T04:59:02.887387Z",
     "shell.execute_reply.started": "2024-06-20T04:59:02.354383Z"
    }
   },
   "outputs": [
    {
     "data": {
      "text/plain": [
       "<module 'matplotlib.pyplot' from '/home/tim/anaconda3/envs/default311/lib/python3.11/site-packages/matplotlib/pyplot.py'>"
      ]
     },
     "execution_count": 13,
     "metadata": {},
     "output_type": "execute_result"
    }
   ],
   "source": [
    "tstoolbox.plot(input_ts=df, ofilename=\"flow.png\")"
   ]
  },
  {
   "cell_type": "markdown",
   "metadata": {},
   "source": [
    "'tstoolbox plot' has many options that can be used to modify the plot."
   ]
  },
  {
   "cell_type": "code",
   "execution_count": 12,
   "metadata": {
    "execution": {
     "iopub.execute_input": "2024-06-20T04:50:06.484192Z",
     "iopub.status.busy": "2024-06-20T04:50:06.483673Z",
     "iopub.status.idle": "2024-06-20T04:50:06.768126Z",
     "shell.execute_reply": "2024-06-20T04:50:06.767825Z",
     "shell.execute_reply.started": "2024-06-20T04:50:06.484176Z"
    }
   },
   "outputs": [
    {
     "data": {
      "text/plain": [
       "<module 'matplotlib.pyplot' from '/home/tim/anaconda3/envs/default311/lib/python3.11/site-packages/matplotlib/pyplot.py'>"
      ]
     },
     "execution_count": 12,
     "metadata": {},
     "output_type": "execute_result"
    }
   ],
   "source": [
    "tstoolbox.plot(\n",
    "    input_ts=df,\n",
    "    ofilename=\"flow_api.png\",\n",
    "    ytitle=\"Flow (cfs)\",\n",
    "    title=\"02325000: FENHOLLOWAY RIVER NEAR PERRY, FLA\",\n",
    "    legend=False,\n",
    ")"
   ]
  },
  {
   "cell_type": "code",
   "execution_count": 14,
   "metadata": {
    "execution": {
     "iopub.execute_input": "2024-06-20T04:59:31.538891Z",
     "iopub.status.busy": "2024-06-20T04:59:31.538307Z",
     "iopub.status.idle": "2024-06-20T04:59:31.548073Z",
     "shell.execute_reply": "2024-06-20T04:59:31.547738Z",
     "shell.execute_reply.started": "2024-06-20T04:59:31.538875Z"
    }
   },
   "outputs": [],
   "source": [
    "mdf = tstoolbox.aggregate(input_ts=df, agg_interval=\"M\", statistic=\"mean\")"
   ]
  },
  {
   "cell_type": "code",
   "execution_count": 15,
   "metadata": {
    "execution": {
     "iopub.execute_input": "2024-06-20T04:59:32.256237Z",
     "iopub.status.busy": "2024-06-20T04:59:32.255767Z",
     "iopub.status.idle": "2024-06-20T04:59:32.481321Z",
     "shell.execute_reply": "2024-06-20T04:59:32.480956Z",
     "shell.execute_reply.started": "2024-06-20T04:59:32.256222Z"
    }
   },
   "outputs": [
    {
     "data": {
      "text/plain": [
       "<module 'matplotlib.pyplot' from '/home/tim/anaconda3/envs/default311/lib/python3.11/site-packages/matplotlib/pyplot.py'>"
      ]
     },
     "execution_count": 15,
     "metadata": {},
     "output_type": "execute_result"
    }
   ],
   "source": [
    "tstoolbox.plot(input_ts=mdf, drawstyle=\"steps-pre\", ofilename=\"flow_api_monthly.png\")"
   ]
  }
 ],
 "metadata": {
  "jupytext": {
   "formats": "ipynb,auto:percent"
  },
  "kernelspec": {
   "display_name": "Python 3 (ipykernel)",
   "language": "python",
   "name": "python3"
  },
  "language_info": {
   "codemirror_mode": {
    "name": "ipython",
    "version": 3
   },
   "file_extension": ".py",
   "mimetype": "text/x-python",
   "name": "python",
   "nbconvert_exporter": "python",
   "pygments_lexer": "ipython3",
   "version": "3.11.0"
  }
 },
 "nbformat": 4,
 "nbformat_minor": 4
}
